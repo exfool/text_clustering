{
 "cells": [
  {
   "cell_type": "markdown",
   "metadata": {
    "collapsed": true
   },
   "source": [
    "# Clustering of short jokes from bash.org"
   ]
  },
  {
   "cell_type": "markdown",
   "metadata": {},
   "source": [
    "by Dmitry Bystritsky"
   ]
  },
  {
   "cell_type": "markdown",
   "metadata": {},
   "source": [
    "How to run:\n",
    "\n",
    "    docker run -d -p 8888:8888 -v $(pwd):/home/ds/notebooks -v ~/nltk_data:/usr/share/nltk_data dataquestio/python3-starter"
   ]
  },
  {
   "cell_type": "code",
   "execution_count": 1,
   "metadata": {
    "collapsed": false
   },
   "outputs": [
    {
     "name": "stdout",
     "output_type": "stream",
     "text": [
      "Populating the interactive namespace from numpy and matplotlib\n"
     ]
    }
   ],
   "source": [
    "%pylab inline"
   ]
  },
  {
   "cell_type": "code",
   "execution_count": 2,
   "metadata": {
    "collapsed": false
   },
   "outputs": [
    {
     "name": "stderr",
     "output_type": "stream",
     "text": [
      "/opt/ds/lib/python3.4/site-packages/matplotlib/__init__.py:872: UserWarning: axes.color_cycle is deprecated and replaced with axes.prop_cycle; please use the latter.\n",
      "  warnings.warn(self.msg_depr % (key, alt_key))\n"
     ]
    }
   ],
   "source": [
    "import sklearn as skl\n",
    "import pandas as pd\n",
    "import numpy as np\n",
    "import seaborn as sns\n",
    "\n",
    "import nltk\n",
    "import re"
   ]
  },
  {
   "cell_type": "markdown",
   "metadata": {},
   "source": [
    "### Load data"
   ]
  },
  {
   "cell_type": "code",
   "execution_count": 3,
   "metadata": {
    "collapsed": true
   },
   "outputs": [],
   "source": [
    "data = pd.read_csv('data/quotes.csv')"
   ]
  },
  {
   "cell_type": "code",
   "execution_count": 4,
   "metadata": {
    "collapsed": false
   },
   "outputs": [
    {
     "data": {
      "text/plain": [
       "19613"
      ]
     },
     "execution_count": 4,
     "metadata": {},
     "output_type": "execute_result"
    }
   ],
   "source": [
    "len(data)"
   ]
  },
  {
   "cell_type": "code",
   "execution_count": 5,
   "metadata": {
    "collapsed": false,
    "scrolled": false
   },
   "outputs": [
    {
     "data": {
      "text/plain": [
       "1000"
      ]
     },
     "execution_count": 5,
     "metadata": {},
     "output_type": "execute_result"
    }
   ],
   "source": [
    "data = data.sample(n=1000, random_state=653645) # 1234, 653645\n",
    "len(data)"
   ]
  },
  {
   "cell_type": "markdown",
   "metadata": {
    "collapsed": true
   },
   "source": [
    "### Stopwords, stemming, and tokenizing"
   ]
  },
  {
   "cell_type": "code",
   "execution_count": 6,
   "metadata": {
    "collapsed": true
   },
   "outputs": [],
   "source": [
    "from nltk.stem.snowball import SnowballStemmer\n",
    "from nltk.stem.snowball import PorterStemmer\n",
    "from nltk.stem import WordNetLemmatizer"
   ]
  },
  {
   "cell_type": "code",
   "execution_count": 7,
   "metadata": {
    "collapsed": false
   },
   "outputs": [],
   "source": [
    "#PorterStemmer()  SnowballStemmer(\"english\") WordNetLemmatizer()\n",
    "stemmer = SnowballStemmer(\"english\")\n",
    "stopwords = nltk.corpus.stopwords.words('english')"
   ]
  },
  {
   "cell_type": "code",
   "execution_count": 8,
   "metadata": {
    "collapsed": true
   },
   "outputs": [],
   "source": [
    "def tokenize(text):\n",
    "    # first tokenize by sentence, then by word to ensure that punctuation is caught as it's own token\n",
    "    tokens = [word.lower() for sent in nltk.sent_tokenize(text) for word in nltk.word_tokenize(sent)]\n",
    "    filtered_tokens = []\n",
    "    # filter out any tokens not containing letters (e.g., numeric tokens, raw punctuation)\n",
    "    for token in tokens:\n",
    "        if (re.search('[a-zA-Z]', token) and (len(token) > 0)):\n",
    "            filtered_tokens.append(token)\n",
    "    return filtered_tokens\n",
    "\n",
    "def stem(filtered_tokens):\n",
    "    stems = [stemmer.stem(token) for token in filtered_tokens]\n",
    "    #stems = [stemmer.lemmatize(token) for token in filtered_tokens]\n",
    "    return stems\n",
    "\n",
    "def tokenize_and_stem(text):\n",
    "    return stem(tokenize(text))"
   ]
  },
  {
   "cell_type": "code",
   "execution_count": 9,
   "metadata": {
    "collapsed": false
   },
   "outputs": [],
   "source": [
    "totalvocab_stemmed = []\n",
    "totalvocab_tokenized = []\n",
    "for item in data.text:\n",
    "    tokenized_item = tokenize(item)\n",
    "    stemmed_item = stem(tokenized_item)\n",
    "    \n",
    "    totalvocab_tokenized.extend(tokenized_item)\n",
    "    totalvocab_stemmed.extend(stemmed_item)"
   ]
  },
  {
   "cell_type": "code",
   "execution_count": 10,
   "metadata": {
    "collapsed": false
   },
   "outputs": [
    {
     "name": "stdout",
     "output_type": "stream",
     "text": [
      "There are 37294 items in vocab_frame\n"
     ]
    }
   ],
   "source": [
    "vocab_frame = pd.DataFrame({'words': totalvocab_tokenized}, index = totalvocab_stemmed)\n",
    "print ('There are ' + str(vocab_frame.shape[0]) + ' items in vocab_frame')"
   ]
  },
  {
   "cell_type": "markdown",
   "metadata": {},
   "source": [
    "### Tf-idf features"
   ]
  },
  {
   "cell_type": "code",
   "execution_count": 11,
   "metadata": {
    "collapsed": true
   },
   "outputs": [],
   "source": [
    "from sklearn.feature_extraction.text import TfidfVectorizer"
   ]
  },
  {
   "cell_type": "code",
   "execution_count": 12,
   "metadata": {
    "collapsed": false,
    "scrolled": true
   },
   "outputs": [
    {
     "name": "stdout",
     "output_type": "stream",
     "text": [
      "CPU times: user 1.2 s, sys: 4 ms, total: 1.2 s\n",
      "Wall time: 1.21 s\n",
      "(1000, 54042)\n"
     ]
    }
   ],
   "source": [
    "tfidf_vectorizer = TfidfVectorizer( max_df=0.6, min_df=0.001, stop_words='english',\n",
    "                                   tokenizer=tokenize_and_stem, norm='l2', ngram_range=(2,4))\n",
    "%time tfidf_matrix = tfidf_vectorizer.fit_transform(data.text) #fit the vectorizer to synopses\n",
    "\n",
    "print(tfidf_matrix.shape)"
   ]
  },
  {
   "cell_type": "code",
   "execution_count": 13,
   "metadata": {
    "collapsed": true
   },
   "outputs": [],
   "source": [
    "# terms is just a list of the features used in the tf-idf matrix\n",
    "terms = tfidf_vectorizer.get_feature_names()"
   ]
  },
  {
   "cell_type": "markdown",
   "metadata": {},
   "source": [
    "### Hand-crafted features"
   ]
  },
  {
   "cell_type": "code",
   "execution_count": 14,
   "metadata": {
    "collapsed": false
   },
   "outputs": [],
   "source": [
    "data_featured = pd.DataFrame(tfidf_matrix.toarray(), columns=terms, index=data.index)"
   ]
  },
  {
   "cell_type": "code",
   "execution_count": 15,
   "metadata": {
    "collapsed": false
   },
   "outputs": [],
   "source": [
    "custom_columns = ['text_len', 'text_count', 'text_avg', 'text_lines', 'text_dots', 'text_quest', 'text_sites']\n",
    "#\n",
    "data_featured['text_len'] = data.text.apply(len)\n",
    "data_featured['text_count'] = data.text.apply(lambda x: len(tokenize_and_stem(x)))\n",
    "data_featured['text_avg'] = data_featured.text_len/data_featured.text_count\n",
    "\n",
    "#data_featured['text_avg'] = data.text.apply(len)/data.text.apply(lambda x: len(tokenize_and_stem(x)))\n",
    "\n",
    "data_featured['text_lines'] = data.text.apply(lambda x: x.count(\"\\n\"))\n",
    "data_featured['text_dots'] = data.text.apply(lambda x: x.count(\".\"))\n",
    "data_featured['text_quest'] = data.text.apply(lambda x: x.count(\"?\"))\n",
    "data_featured['text_sites'] = data.text.apply(lambda x: x.count(\"www\"))"
   ]
  },
  {
   "cell_type": "markdown",
   "metadata": {},
   "source": [
    "#### Scale hand-crafted features"
   ]
  },
  {
   "cell_type": "code",
   "execution_count": 16,
   "metadata": {
    "collapsed": true
   },
   "outputs": [],
   "source": [
    "from sklearn.preprocessing import StandardScaler"
   ]
  },
  {
   "cell_type": "code",
   "execution_count": 17,
   "metadata": {
    "collapsed": true
   },
   "outputs": [],
   "source": [
    "importance_cust_feature = 0.3\n",
    "scaler = StandardScaler()\n",
    "data_featured[custom_columns] = scaler.fit_transform(data_featured[custom_columns].copy())*importance_cust_feature"
   ]
  },
  {
   "cell_type": "code",
   "execution_count": 18,
   "metadata": {
    "collapsed": false
   },
   "outputs": [
    {
     "data": {
      "text/html": [
       "<div>\n",
       "<table border=\"1\" class=\"dataframe\">\n",
       "  <thead>\n",
       "    <tr style=\"text-align: right;\">\n",
       "      <th></th>\n",
       "      <th>'d aliv</th>\n",
       "      <th>'d aliv new</th>\n",
       "      <th>'d aliv new smarter</th>\n",
       "      <th>'d ask</th>\n",
       "      <th>'d ask god</th>\n",
       "      <th>'d ask god handjob</th>\n",
       "      <th>'d canada</th>\n",
       "      <th>'d canada alby_fox</th>\n",
       "      <th>'d canada alby_fox countri</th>\n",
       "      <th>'d constant</th>\n",
       "      <th>...</th>\n",
       "      <th>~xxxxxx xxxxxx.xxxxxxcpe.net.cable.rogers.com</th>\n",
       "      <th>~xxxxxx xxxxxx.xxxxxxcpe.net.cable.rogers.com join</th>\n",
       "      <th>~xxxxxx xxxxxx.xxxxxxcpe.net.cable.rogers.com join c</th>\n",
       "      <th>text_len</th>\n",
       "      <th>text_count</th>\n",
       "      <th>text_avg</th>\n",
       "      <th>text_lines</th>\n",
       "      <th>text_dots</th>\n",
       "      <th>text_quest</th>\n",
       "      <th>text_sites</th>\n",
       "    </tr>\n",
       "  </thead>\n",
       "  <tbody>\n",
       "    <tr>\n",
       "      <th>3220</th>\n",
       "      <td>0</td>\n",
       "      <td>0</td>\n",
       "      <td>0</td>\n",
       "      <td>0</td>\n",
       "      <td>0</td>\n",
       "      <td>0</td>\n",
       "      <td>0</td>\n",
       "      <td>0</td>\n",
       "      <td>0</td>\n",
       "      <td>0</td>\n",
       "      <td>...</td>\n",
       "      <td>0</td>\n",
       "      <td>0</td>\n",
       "      <td>0</td>\n",
       "      <td>0.118783</td>\n",
       "      <td>0.058712</td>\n",
       "      <td>0.225034</td>\n",
       "      <td>0.087335</td>\n",
       "      <td>0.333724</td>\n",
       "      <td>-0.172434</td>\n",
       "      <td>-0.038255</td>\n",
       "    </tr>\n",
       "    <tr>\n",
       "      <th>9500</th>\n",
       "      <td>0</td>\n",
       "      <td>0</td>\n",
       "      <td>0</td>\n",
       "      <td>0</td>\n",
       "      <td>0</td>\n",
       "      <td>0</td>\n",
       "      <td>0</td>\n",
       "      <td>0</td>\n",
       "      <td>0</td>\n",
       "      <td>0</td>\n",
       "      <td>...</td>\n",
       "      <td>0</td>\n",
       "      <td>0</td>\n",
       "      <td>0</td>\n",
       "      <td>-0.180578</td>\n",
       "      <td>-0.151411</td>\n",
       "      <td>-0.268349</td>\n",
       "      <td>-0.077137</td>\n",
       "      <td>-0.156737</td>\n",
       "      <td>-0.172434</td>\n",
       "      <td>-0.038255</td>\n",
       "    </tr>\n",
       "    <tr>\n",
       "      <th>14665</th>\n",
       "      <td>0</td>\n",
       "      <td>0</td>\n",
       "      <td>0</td>\n",
       "      <td>0</td>\n",
       "      <td>0</td>\n",
       "      <td>0</td>\n",
       "      <td>0</td>\n",
       "      <td>0</td>\n",
       "      <td>0</td>\n",
       "      <td>0</td>\n",
       "      <td>...</td>\n",
       "      <td>0</td>\n",
       "      <td>0</td>\n",
       "      <td>0</td>\n",
       "      <td>-0.118534</td>\n",
       "      <td>-0.116391</td>\n",
       "      <td>-0.027903</td>\n",
       "      <td>-0.077137</td>\n",
       "      <td>0.123526</td>\n",
       "      <td>-0.172434</td>\n",
       "      <td>-0.038255</td>\n",
       "    </tr>\n",
       "    <tr>\n",
       "      <th>3489</th>\n",
       "      <td>0</td>\n",
       "      <td>0</td>\n",
       "      <td>0</td>\n",
       "      <td>0</td>\n",
       "      <td>0</td>\n",
       "      <td>0</td>\n",
       "      <td>0</td>\n",
       "      <td>0</td>\n",
       "      <td>0</td>\n",
       "      <td>0</td>\n",
       "      <td>...</td>\n",
       "      <td>0</td>\n",
       "      <td>0</td>\n",
       "      <td>0</td>\n",
       "      <td>-0.059593</td>\n",
       "      <td>-0.046350</td>\n",
       "      <td>-0.088014</td>\n",
       "      <td>0.005099</td>\n",
       "      <td>-0.156737</td>\n",
       "      <td>-0.172434</td>\n",
       "      <td>-0.038255</td>\n",
       "    </tr>\n",
       "    <tr>\n",
       "      <th>16291</th>\n",
       "      <td>0</td>\n",
       "      <td>0</td>\n",
       "      <td>0</td>\n",
       "      <td>0</td>\n",
       "      <td>0</td>\n",
       "      <td>0</td>\n",
       "      <td>0</td>\n",
       "      <td>0</td>\n",
       "      <td>0</td>\n",
       "      <td>0</td>\n",
       "      <td>...</td>\n",
       "      <td>0</td>\n",
       "      <td>0</td>\n",
       "      <td>0</td>\n",
       "      <td>-0.036327</td>\n",
       "      <td>-0.063860</td>\n",
       "      <td>0.148424</td>\n",
       "      <td>0.087335</td>\n",
       "      <td>0.123526</td>\n",
       "      <td>-0.172434</td>\n",
       "      <td>-0.038255</td>\n",
       "    </tr>\n",
       "  </tbody>\n",
       "</table>\n",
       "<p>5 rows × 54049 columns</p>\n",
       "</div>"
      ],
      "text/plain": [
       "       'd aliv  'd aliv new  'd aliv new smarter  'd ask  'd ask god  \\\n",
       "3220         0            0                    0       0           0   \n",
       "9500         0            0                    0       0           0   \n",
       "14665        0            0                    0       0           0   \n",
       "3489         0            0                    0       0           0   \n",
       "16291        0            0                    0       0           0   \n",
       "\n",
       "       'd ask god handjob  'd canada  'd canada alby_fox  \\\n",
       "3220                    0          0                   0   \n",
       "9500                    0          0                   0   \n",
       "14665                   0          0                   0   \n",
       "3489                    0          0                   0   \n",
       "16291                   0          0                   0   \n",
       "\n",
       "       'd canada alby_fox countri  'd constant     ...      \\\n",
       "3220                            0            0     ...       \n",
       "9500                            0            0     ...       \n",
       "14665                           0            0     ...       \n",
       "3489                            0            0     ...       \n",
       "16291                           0            0     ...       \n",
       "\n",
       "       ~xxxxxx xxxxxx.xxxxxxcpe.net.cable.rogers.com  \\\n",
       "3220                                               0   \n",
       "9500                                               0   \n",
       "14665                                              0   \n",
       "3489                                               0   \n",
       "16291                                              0   \n",
       "\n",
       "       ~xxxxxx xxxxxx.xxxxxxcpe.net.cable.rogers.com join  \\\n",
       "3220                                                   0    \n",
       "9500                                                   0    \n",
       "14665                                                  0    \n",
       "3489                                                   0    \n",
       "16291                                                  0    \n",
       "\n",
       "       ~xxxxxx xxxxxx.xxxxxxcpe.net.cable.rogers.com join c  text_len  \\\n",
       "3220                                                   0     0.118783   \n",
       "9500                                                   0    -0.180578   \n",
       "14665                                                  0    -0.118534   \n",
       "3489                                                   0    -0.059593   \n",
       "16291                                                  0    -0.036327   \n",
       "\n",
       "       text_count  text_avg  text_lines  text_dots  text_quest  text_sites  \n",
       "3220     0.058712  0.225034    0.087335   0.333724   -0.172434   -0.038255  \n",
       "9500    -0.151411 -0.268349   -0.077137  -0.156737   -0.172434   -0.038255  \n",
       "14665   -0.116391 -0.027903   -0.077137   0.123526   -0.172434   -0.038255  \n",
       "3489    -0.046350 -0.088014    0.005099  -0.156737   -0.172434   -0.038255  \n",
       "16291   -0.063860  0.148424    0.087335   0.123526   -0.172434   -0.038255  \n",
       "\n",
       "[5 rows x 54049 columns]"
      ]
     },
     "execution_count": 18,
     "metadata": {},
     "output_type": "execute_result"
    }
   ],
   "source": [
    "data_featured.head()"
   ]
  },
  {
   "cell_type": "markdown",
   "metadata": {},
   "source": [
    "### Document similarity"
   ]
  },
  {
   "cell_type": "code",
   "execution_count": 19,
   "metadata": {
    "collapsed": true
   },
   "outputs": [],
   "source": [
    "from sklearn.metrics.pairwise import cosine_similarity"
   ]
  },
  {
   "cell_type": "code",
   "execution_count": 20,
   "metadata": {
    "collapsed": true
   },
   "outputs": [],
   "source": [
    "distance_cos = 1 - cosine_similarity(data_featured)"
   ]
  },
  {
   "cell_type": "code",
   "execution_count": 21,
   "metadata": {
    "collapsed": false
   },
   "outputs": [
    {
     "name": "stdout",
     "output_type": "stream",
     "text": [
      "1000\n",
      "1000\n"
     ]
    }
   ],
   "source": [
    "print(len(distance_cos))\n",
    "print(len(distance_cos[0]))"
   ]
  },
  {
   "cell_type": "markdown",
   "metadata": {},
   "source": [
    "### Clustering"
   ]
  },
  {
   "cell_type": "markdown",
   "metadata": {},
   "source": [
    "#### K-means"
   ]
  },
  {
   "cell_type": "code",
   "execution_count": 22,
   "metadata": {
    "collapsed": true
   },
   "outputs": [],
   "source": [
    "from sklearn.cluster import KMeans\n",
    "from sklearn.externals import joblib"
   ]
  },
  {
   "cell_type": "code",
   "execution_count": 23,
   "metadata": {
    "collapsed": false
   },
   "outputs": [
    {
     "name": "stdout",
     "output_type": "stream",
     "text": [
      "CPU times: user 64 ms, sys: 40 ms, total: 104 ms\n",
      "Wall time: 494 ms\n"
     ]
    }
   ],
   "source": [
    "km_num_clusters = 6#9\n",
    "\n",
    "km = KMeans(n_clusters=km_num_clusters, n_jobs=-1, max_iter=5000, random_state=1234)\n",
    "\n",
    "#%time km.fit(data_featured)\n",
    "%time km.fit(distance_cos)\n",
    "#%time km.fit(tfidf_matrix)\n",
    "\n",
    "km_frame = data.copy()\n",
    "km_frame['cluster'] = km.labels_.tolist()"
   ]
  },
  {
   "cell_type": "markdown",
   "metadata": {},
   "source": [
    "### Text interpretation of clusters"
   ]
  },
  {
   "cell_type": "code",
   "execution_count": 24,
   "metadata": {
    "collapsed": true
   },
   "outputs": [],
   "source": [
    "from __future__ import print_function"
   ]
  },
  {
   "cell_type": "code",
   "execution_count": 25,
   "metadata": {
    "collapsed": false,
    "scrolled": true
   },
   "outputs": [],
   "source": [
    "#sort cluster centers by proximity to centroid\n",
    "#order_centroids = km.cluster_centers_.argsort()[:, ::-1] \n",
    "def print_clusters(frame, num_clust):\n",
    "    print(\"Number of clusters: %d\" % num_clust)\n",
    "    for i in range(num_clust):\n",
    "        print(\"\\nJokes of cluster # %d :\" % i)\n",
    "        print(\"++++++++++++++++++++\\n\\n\") #add whitespace\n",
    "        for row in frame[(frame.cluster == i)][:4]['text']:#.values.tolist():\n",
    "\n",
    "            print('%s,' % row, end='')\n",
    "            print(\"\\n---------------------\\n\")\n",
    "\n",
    "        print()"
   ]
  },
  {
   "cell_type": "code",
   "execution_count": 26,
   "metadata": {
    "collapsed": false
   },
   "outputs": [
    {
     "name": "stdout",
     "output_type": "stream",
     "text": [
      "Number of clusters: 6\n",
      "\n",
      "Jokes of cluster # 0 :\n",
      "++++++++++++++++++++\n",
      "\n",
      "\n",
      "Rann XXV: Geez. Story on \"Ripley's Believe It Or Not\" about two guys that tried to invent a sport called \"parabungee\", a combination of skydiving and bungee jumping. And, gee, one of them got hurt when it all fucked up. Right now, God is STILL thinking, \"Why the hell isn't that fucker dead?\", while Darwin spins in his grave.,\n",
      "---------------------\n",
      "\n",
      "Nickster Time for me to make some breakfast! :)\r\n",
      "Nickster Is anyone from England? I have a question.\r\n",
      "Speck Im from England and if your asking about english muffins Ill kick you.\r\n",
      "Nickster nvm then.,\n",
      "---------------------\n",
      "\n",
      " Cillian WTF is ubuntu christian edition!?!??\r\n",
      " Cillian It's not like normal ubuntu is spawn of the devil\r\n",
      "@BlackRatchet thou shalt not kill -9?,\n",
      "---------------------\n",
      "\n",
      "osseh i have a twin pack of garlic bread in the freezer \r\n",
      "osseh on the packet it says \"contains 18 servings\" \r\n",
      "osseh 18 servings from 2 garlic breads?! what the fuck \r\n",
      "osseh does it come with a mini jesus inside,\n",
      "---------------------\n",
      "\n",
      "\n",
      "\n",
      "Jokes of cluster # 1 :\n",
      "++++++++++++++++++++\n",
      "\n",
      "\n",
      "w|zzy had to help sister in the shower\r\n",
      "w|zzy fuck\r\n",
      "w|zzy as in she couldn't get it hot enouguh,\n",
      "---------------------\n",
      "\n",
      "MadHatter if you want to meet girls, I'll take you out\r\n",
      "Ash I want nice nerd girls, not coked-up models.,\n",
      "---------------------\n",
      "\n",
      "phroze i like the express shirt \"Oh her? shes just a friend\",\n",
      "---------------------\n",
      "\n",
      "@Latino-Heat when i was in school, during free periods i'd sit in the library cos i couldnt go home and i'd look up stds in encyclopedias \r\n",
      "@Latino-Heat cos i had rashes everywhere,\n",
      "---------------------\n",
      "\n",
      "\n",
      "\n",
      "Jokes of cluster # 2 :\n",
      "++++++++++++++++++++\n",
      "\n",
      "\n",
      "Philips.com \"live chat\"\r\n",
      "\r\n",
      "Please wait for a consultant to assist you.\r\n",
      "mfennell will be with you momentarily!\r\n",
      "mfennell says, \"Thank you for contacting Philips USA Webchat. My name is Maurice. How may I assist you today?\"\r\n",
      "You say, \"yeah.. i was looking at your digital camera keyrings and had a question\"\r\n",
      "You say, \"i couldnt find what resolutions that were available to take pictures in\"\r\n",
      "mfennell says, \"I will be more than happy to assist you with this information but first , please may I have your first and last name, zip code, city and telephone number so as to create a case file ?\"\r\n",
      "You say, \"i realize it is 1.3 gigapixels and it comes in either 128 or 64 meg memory capacitys, but i dont know what res it will take picutres in\"\r\n",
      "You say, \"er... do you really need all of that info? im not sure if im going to buy it or anything.. i just wanted to know the resolutions..\"\r\n",
      "mfennell says, \"We would like this information so as to keep a record of each customer contact.\"\r\n",
      "You say, \"but im going to talk to you for all of like.. half a minute..\"\r\n",
      "You say, \"my name and email address was allready submitted.. that should be more than enough\"\r\n",
      "mfennell says, \"May I have the model number of the unit please?\"\r\n",
      "You say, \"KEY008\"\r\n",
      "You say, \"and KEY007.. if there is a difference\"\r\n",
      "mfennell says, \"Thank you.\"\r\n",
      "mfennell says, \"With an issue like this what we suggest is that you contact us at 1-800-531-0039.\"\r\n",
      "You say, \"er.... lool.. ok... im not gong to give them my info either\"\r\n",
      "You say, \"how bout i just look around for a different manufacturer that is less creepy..\"\r\n",
      "mfennell says, \"With an issue like this what we suggest is that you contact us at 1-800-531-0039.\"\r\n",
      "You say, \"wow.. generated responses..\"\r\n",
      "You say, \"really makes me feel i have a genuine connection w/the person helping me\"\r\n",
      "You say, \"well thanx for spending a good 15 min of my time\"\r\n",
      "You say, \"have a nice day....\"\r\n",
      "You say, \"try not to seduce any 13 yr olds over the net...\"\r\n",
      "mfennell says, \"Thank you.\"\r\n",
      "mfennell says, \"Thanks for contacting Philips USA. \"\r\n",
      "Your consultation has ended\r\n",
      "mfennell leaves.,\n",
      "---------------------\n",
      "\n",
      "@sTubby I'm holding the SL45 right now\r\n",
      "@PuffinFreshWog i am holding a sl45 too\r\n",
      "NiffTuRNaL Im holding a PS2 control\r\n",
      "@sTubby I'm holding my dick\r\n",
      "@sTubby and 2 phones, and typing...\r\n",
      "@sTubby now THAT'S talent\r\n",
      "@PuffinFreshWog thats a lot of hands\r\n",
      "@sTubby nah, just 3\r\n",
      "@PuffinFreshWog call the phones, if they are in the same hand as the dick\r\n",
      "@sTubby that'd be strangely entertaining\r\n",
      "@PuffinFreshWog i can't do that type of thing, my cocks needs the full atention of both hands coz it is so huge\r\n",
      "@PuffinFreshWog lol\r\n",
      "@sTubby 1 hand to rub and 1 hand to watch?\r\n",
      "@sTubby \"backup\"?,\n",
      "---------------------\n",
      "\n",
      "baloolispy: I have this horrible addiction to food. I try to quit, but I just get wracked with pain after a day or two every time and just have to have a cheeseburger.\r\n",
      "balooThey only told me the positive effects of food. Nobody ever told me food would be hard to quit.\r\n",
      "malfunct`their highly addictive products which are advertised as safe got me hooked and ruined my teeth and put me at high risk for heart disease and diabetes\r\n",
      "balooexactly\r\n",
      "malfunct`and from what I hear, mcdonalds is ruining my liver\r\n",
      "balooNot to mention high cholestorol\r\n",
      "lispybaloo: i find myself horribly addicted to O_2...i can't go five minutes without it...i get shakey and light headed...i'll fight someone that won't let me get my O_2 fix\r\n",
      "malfunct`ok bal, I don't buy that pepsi gave me high colesterol\r\n",
      "baloolispy: I know what you mean. I get the same way about water after a couple hours on a hot day.\r\n",
      "malfunct`lispy: yeah, the 02 addiction is nearly as bad as my dihydrogen monoxide addiction\r\n",
      "malfunct`and you know how many bad things dihydrogen monoxide can do\r\n",
      "baloomalfunct`: Yeah. I mean, holy hell, you mix dhydrogen monoxide and dioxygen long enough undisturbed on the hood of your car and it'll eat right through it. Might take a few years, but it'll do it.\r\n",
      "malfunct`baloo: yeah, and how many natural disasters can be traced back to the dihydrogen monoxide as a source\r\n",
      "lispybaloo: it only takes a couple ounces of that stuff to kill a baby in a matter of minutes if you leave their face in it\r\n",
      "baloomalfunct`: No kidding. You breathe even a little of that and it'll hurt like hell for days.,\n",
      "---------------------\n",
      "\n",
      "* byra bounces like a retard\r\n",
      "Argent- Are you listening to something bouncy?\r\n",
      "byra nope.\r\n",
      "byra im listening to the hum of computers\r\n",
      "Argent- Well, that always perks me up.\r\n",
      "Argent- The comforting whirr of fans, the faint ozone smell.. ah, I love that new computer smell you get when you buy a new case.\r\n",
      "Argent- The slick texture of anti-static bags..\r\n",
      "Argent- the clink of mounting hardware\r\n",
      "countzero -stop- you're turning me on!\r\n",
      "countzero ooh la la.,\n",
      "---------------------\n",
      "\n",
      "\n",
      "\n",
      "Jokes of cluster # 3 :\n",
      "++++++++++++++++++++\n",
      "\n",
      "\n",
      "RikI Havent had sex in sooooooo long\r\n",
      "RikI It's gotten to the point where i masturbate thinking of other times i masturbated.\r\n",
      "Vorm ...,\n",
      "---------------------\n",
      "\n",
      "chaowork dont singe the wenis\r\n",
      "faustwork yeah, nude bacon cooking is tricky\r\n",
      "chaowork i hear thats gonna be in the next olympics\r\n",
      "faustwork you should see how i flip it over,\n",
      "---------------------\n",
      "\n",
      "Sukato Once again\r\n",
      "Sukato my firewall successfully blocked hack attempt from 192.168.0.1\r\n",
      "Sukato Then some programs get kicked offline\r\n",
      "Jed I know that IP address\r\n",
      "Jed He's a mean bastard.,\n",
      "---------------------\n",
      "\n",
      "timmo make me dumplings\r\n",
      "timmo and some grit\r\n",
      "Fustard grits*\r\n",
      "Fustard grit would be dirt, tim\r\n",
      "timmo no zach im watchin my weight i only want one grit,\n",
      "---------------------\n",
      "\n",
      "\n",
      "\n",
      "Jokes of cluster # 4 :\n",
      "++++++++++++++++++++\n",
      "\n",
      "\n",
      "DarkImportGrey god there's nothing greater than using people to your advantage\r\n",
      "DarkImportGrey well... bowel movements are quite rewarding...\r\n",
      "DarkImportGrey but it's close\r\n",
      "DarkImportGrey manipulation vs. dumping\r\n",
      "DarkImportGrey i guess i'd have to do both at once to see which would win,\n",
      "---------------------\n",
      "\n",
      "(notME) i have a 6 week old kitten\r\n",
      "(notME) and my 2 year old cat raped him\r\n",
      "(notME) shoved his feline penis in his bum\r\n",
      "(notME) i watched it\r\n",
      "(notME) i wasn't going to spank him\r\n",
      "(notME) d00d no\r\n",
      "(notME) i turned around\r\n",
      "(notME) and he's balls are smacking my kitten in the ass\r\n",
      "(notME) i didn't want to spank him\r\n",
      "(notME) cuz it'd only get him off faster,\n",
      "---------------------\n",
      "\n",
      "sad|st grrrrrrrr\r\n",
      "sad|st im going to *kill* my ex\r\n",
      "TblunT good\r\n",
      "TblunT ex's suck\r\n",
      "TblunT fuck em\r\n",
      "sad|st i spend 20 mins making fresh whipped cream every year and she demands i put Cool MotherFucking Whip on her shit\r\n",
      "sad|st %)%*%\r\n",
      "TblunT sounds like the cream isn't the only thing whipped y0,\n",
      "---------------------\n",
      "\n",
      "Liz: id like to have something else :-P\r\n",
      "katie: lol\r\n",
      "katie: i would too\r\n",
      "katie: like 5 seconds with him\r\n",
      "katie: even 5 milliseconds\r\n",
      "Liz: mmmm, 5 milliseconds of sex\r\n",
      "Liz: is that even a full thrust?\r\n",
      "katie: 1/2 of one\r\n",
      "Liz: mmmm, half thrust,\n",
      "---------------------\n",
      "\n",
      "\n",
      "\n",
      "Jokes of cluster # 5 :\n",
      "++++++++++++++++++++\n",
      "\n",
      "\n",
      "CmdrRat|Sick http://www.sky.com/skynews/article/030100-12276106,00.html\r\n",
      "CmdrRat|Sick MARINE shot in the head 4 times, helmet saves him\r\n",
      "Toan wow\r\n",
      "Toan He should play CS,\n",
      "---------------------\n",
      "\n",
      "-- Globulus (~XXXXXX@XXXXXX.XXXXXXcpe.net.cable.rogers.com) has joined #c\r\n",
      "* Globulus why they ban me from #china all I say is \"ME CHINESE ME MAKE JOKE ME PUT PEE PEE IN YOUR COKE!!!!!!!!!!!!!!\"\r\n",
      "--- qball sets ban on *!*@*.cpe.net.cable.rogers.com,\n",
      "---------------------\n",
      "\n",
      "stenzel fuck you dude, i aint answering any more of your shitty questions\r\n",
      "moomin_two not even this one?\r\n",
      "stenzel no\r\n",
      "moomin_two ha, dumbass\r\n",
      "* stenzel (~stenzel@***) Quit (fucker),\n",
      "---------------------\n",
      "\n",
      "[Cable]KingKapalone2 anyone have a blackhawk down serial or key generator?\r\n",
      "Claus 6uy-th3-m0v1e-1n5t3d,\n",
      "---------------------\n",
      "\n",
      "\n"
     ]
    }
   ],
   "source": [
    "print_clusters(km_frame, km_num_clusters)"
   ]
  },
  {
   "cell_type": "markdown",
   "metadata": {},
   "source": [
    "### Multidimensional scaling and Visualizing document clusters"
   ]
  },
  {
   "cell_type": "code",
   "execution_count": 27,
   "metadata": {
    "collapsed": false
   },
   "outputs": [
    {
     "name": "stderr",
     "output_type": "stream",
     "text": [
      "/opt/ds/lib/python3.4/site-packages/matplotlib/__init__.py:872: UserWarning: axes.color_cycle is deprecated and replaced with axes.prop_cycle; please use the latter.\n",
      "  warnings.warn(self.msg_depr % (key, alt_key))\n"
     ]
    }
   ],
   "source": [
    "# That's an impressive list of imports.\n",
    "import numpy as np\n",
    "from numpy import linalg\n",
    "from numpy.linalg import norm\n",
    "from scipy.spatial.distance import squareform, pdist\n",
    "\n",
    "# We import sklearn.\n",
    "import sklearn\n",
    "from sklearn.manifold import TSNE\n",
    "from sklearn.preprocessing import scale\n",
    "\n",
    "# We'll hack a bit with the t-SNE code in sklearn 0.15.2.\n",
    "from sklearn.metrics.pairwise import pairwise_distances\n",
    "from sklearn.manifold.t_sne import (_joint_probabilities,\n",
    "                                    _kl_divergence)\n",
    "from sklearn.utils.extmath import _ravel\n",
    "# Random state.\n",
    "RS = 20150101\n",
    "\n",
    "# We'll use matplotlib for graphics.\n",
    "import matplotlib.pyplot as plt\n",
    "import matplotlib.patheffects as PathEffects\n",
    "import matplotlib\n",
    "%matplotlib inline\n",
    "\n",
    "# We import seaborn to make nice plots.\n",
    "import seaborn as sns\n",
    "sns.set_style('darkgrid')\n",
    "sns.set_palette('muted')\n",
    "sns.set_context(\"notebook\", font_scale=1.5,\n",
    "                rc={\"lines.linewidth\": 2.5})\n",
    "\n",
    "# We'll generate an animation with matplotlib and moviepy.\n",
    "#from moviepy.video.io.bindings import mplfig_to_npimage\n",
    "#import moviepy.editor as mpy"
   ]
  },
  {
   "cell_type": "code",
   "execution_count": 28,
   "metadata": {
    "collapsed": false
   },
   "outputs": [
    {
     "name": "stdout",
     "output_type": "stream",
     "text": [
      "CPU times: user 14.3 s, sys: 104 ms, total: 14.4 s\n",
      "Wall time: 14.4 s\n"
     ]
    }
   ],
   "source": [
    "# We first reorder the data points according to the handwritten numbers.\n",
    "X = np.vstack(distance_cos)\n",
    "\n",
    "%time cos_proj = TSNE(random_state=RS, n_iter_without_progress=100, n_iter=5000, method='exact').fit_transform(X)"
   ]
  },
  {
   "cell_type": "code",
   "execution_count": 29,
   "metadata": {
    "collapsed": true
   },
   "outputs": [],
   "source": [
    "def scatter(x, colors, num_clusters):\n",
    "    # We choose a color palette with seaborn.\n",
    "    palette = np.array(sns.color_palette(\"hls\", num_clusters))\n",
    "\n",
    "    # We create a scatter plot.\n",
    "    f = plt.figure(figsize=(8, 8))\n",
    "    ax = plt.subplot(aspect='equal')\n",
    "    sc = ax.scatter(x[:,0], x[:,1], lw=0, s=20, c=palette[colors.astype(np.int)])\n",
    "    plt.xlim(-25, 25)\n",
    "    plt.ylim(-25, 25)\n",
    "    ax.axis('off')\n",
    "    ax.axis('tight')\n",
    "\n",
    "    # We add the labels for each digit.\n",
    "    txts = []\n",
    "    for i in range(num_clusters):\n",
    "        # Position of each label.\n",
    "        xtext, ytext = np.median(x[colors == i, :], axis=0)\n",
    "        txt = ax.text(xtext, ytext, str(i), fontsize=24, color=palette[i])\n",
    "        txt.set_path_effects([\n",
    "            PathEffects.Stroke(linewidth=5, foreground=\"w\"),\n",
    "            PathEffects.Normal()])\n",
    "        txts.append(txt)\n",
    "\n",
    "    return f, ax, sc, txts"
   ]
  },
  {
   "cell_type": "code",
   "execution_count": 30,
   "metadata": {
    "collapsed": false
   },
   "outputs": [
    {
     "data": {
      "image/png": "[encoded data removed]",
      "text/plain": [
       "<matplotlib.figure.Figure at 0x7fd6aa544a90>"
      ]
     },
     "metadata": {},
     "output_type": "display_data"
    }
   ],
   "source": [
    "y = np.hstack(km_frame.cluster)\n",
    "scatter(cos_proj, y, km_num_clusters)\n",
    "plt.savefig('data/images/k_mean_10.png', dpi=120)"
   ]
  },
  {
   "cell_type": "markdown",
   "metadata": {},
   "source": [
    "### Another clustering method"
   ]
  },
  {
   "cell_type": "markdown",
   "metadata": {},
   "source": [
    "#### AffinityPropagation"
   ]
  },
  {
   "cell_type": "code",
   "execution_count": 31,
   "metadata": {
    "collapsed": true
   },
   "outputs": [],
   "source": [
    "from sklearn.cluster import AffinityPropagation"
   ]
  },
  {
   "cell_type": "code",
   "execution_count": 32,
   "metadata": {
    "collapsed": false
   },
   "outputs": [],
   "source": [
    "af = AffinityPropagation(damping=0.6, preference=-100, max_iter=5000).fit(distance_cos)\n",
    "\n",
    "af_cluster_centers_indices = af.cluster_centers_indices_\n",
    "af_num_clusters = len(af_cluster_centers_indices)\n",
    "\n",
    "af_frame = data.copy()\n",
    "af_frame['cluster'] = af.labels_.tolist()"
   ]
  },
  {
   "cell_type": "code",
   "execution_count": 33,
   "metadata": {
    "collapsed": false,
    "scrolled": true
   },
   "outputs": [
    {
     "name": "stdout",
     "output_type": "stream",
     "text": [
      "Number of clusters: 15\n",
      "\n",
      "Jokes of cluster # 0 :\n",
      "++++++++++++++++++++\n",
      "\n",
      "\n",
      "RikI Havent had sex in sooooooo long\r\n",
      "RikI It's gotten to the point where i masturbate thinking of other times i masturbated.\r\n",
      "Vorm ...,\n",
      "---------------------\n",
      "\n",
      "chaowork dont singe the wenis\r\n",
      "faustwork yeah, nude bacon cooking is tricky\r\n",
      "chaowork i hear thats gonna be in the next olympics\r\n",
      "faustwork you should see how i flip it over,\n",
      "---------------------\n",
      "\n",
      "timmo make me dumplings\r\n",
      "timmo and some grit\r\n",
      "Fustard grits*\r\n",
      "Fustard grit would be dirt, tim\r\n",
      "timmo no zach im watchin my weight i only want one grit,\n",
      "---------------------\n",
      "\n",
      "@Latino-Heat when i was in school, during free periods i'd sit in the library cos i couldnt go home and i'd look up stds in encyclopedias \r\n",
      "@Latino-Heat cos i had rashes everywhere,\n",
      "---------------------\n",
      "\n",
      "\n",
      "\n",
      "Jokes of cluster # 1 :\n",
      "++++++++++++++++++++\n",
      "\n",
      "\n",
      "Sukato Once again\r\n",
      "Sukato my firewall successfully blocked hack attempt from 192.168.0.1\r\n",
      "Sukato Then some programs get kicked offline\r\n",
      "Jed I know that IP address\r\n",
      "Jed He's a mean bastard.,\n",
      "---------------------\n",
      "\n",
      "Rann XXV: Geez. Story on \"Ripley's Believe It Or Not\" about two guys that tried to invent a sport called \"parabungee\", a combination of skydiving and bungee jumping. And, gee, one of them got hurt when it all fucked up. Right now, God is STILL thinking, \"Why the hell isn't that fucker dead?\", while Darwin spins in his grave.,\n",
      "---------------------\n",
      "\n",
      "Nickster Time for me to make some breakfast! :)\r\n",
      "Nickster Is anyone from England? I have a question.\r\n",
      "Speck Im from England and if your asking about english muffins Ill kick you.\r\n",
      "Nickster nvm then.,\n",
      "---------------------\n",
      "\n",
      "stenzel fuck you dude, i aint answering any more of your shitty questions\r\n",
      "moomin_two not even this one?\r\n",
      "stenzel no\r\n",
      "moomin_two ha, dumbass\r\n",
      "* stenzel (~stenzel@***) Quit (fucker),\n",
      "---------------------\n",
      "\n",
      "\n",
      "\n",
      "Jokes of cluster # 2 :\n",
      "++++++++++++++++++++\n",
      "\n",
      "\n",
      "CmdrRat|Sick http://www.sky.com/skynews/article/030100-12276106,00.html\r\n",
      "CmdrRat|Sick MARINE shot in the head 4 times, helmet saves him\r\n",
      "Toan wow\r\n",
      "Toan He should play CS,\n",
      "---------------------\n",
      "\n",
      "mappyman i sent off for a PAL videotape of Captain Jack\r\n",
      "mappyman still in backorder\r\n",
      "Hiko heh\r\n",
      "Hiko how you gonna play a PAL tape?\r\n",
      "mightyflo just crack it\r\n",
      "mightyflo www.vhscopyworld.com,\n",
      "---------------------\n",
      "\n",
      "Pi|Mu|Rho http://www.bash.org/?36444\r\n",
      "Ozy geoff gets that lots\r\n",
      "Pi|Mu|Rho I can imagine\r\n",
      "Ozy theres a whole bunch of people stuck to the ceiling nearby my desk, roughly where geoff sits on the floor above us\r\n",
      "Pi|Mu|Rho That's such a hilarious image,\n",
      "---------------------\n",
      "\n",
      "lo-d0gg man.. these quotes are funny as!\r\n",
      "Ho-Train what server/channel are you on?\r\n",
      "lo-d0gg uhm, no channels.. www.geekissues.org\r\n",
      "Ho-Train dammit! i can't connect..\r\n",
      "Ho-Train [12:03:15am] *** Connecting to geekissues.org (6667)\r\n",
      "Ho-Train [12:03:24am] *** Connection attempt timed out\r\n",
      "Ho-Train [12:03:27am] *** Connect retry #1 geekissues.org (6667)\r\n",
      "Ho-Train [12:03:36am] *** Connection attempt timed out,\n",
      "---------------------\n",
      "\n",
      "\n",
      "\n",
      "Jokes of cluster # 3 :\n",
      "++++++++++++++++++++\n",
      "\n",
      "\n",
      "Jon- doing some C coding ;)\r\n",
      "Anselmo pfft\r\n",
      "Anselmo Learn a real language\r\n",
      "Anselmo Like Amiga Basic,\n",
      "---------------------\n",
      "\n",
      "[Cable]KingKapalone2 anyone have a blackhawk down serial or key generator?\r\n",
      "Claus 6uy-th3-m0v1e-1n5t3d,\n",
      "---------------------\n",
      "\n",
      "Unimita What wobbles and flies?\r\n",
      "Unimita A jellycopter\r\n",
      "Unimita :D,\n",
      "---------------------\n",
      "\n",
      "BenSpinSpace if you double major in graphic design and archaeology, could you specialize in jpeg artifacts?,\n",
      "---------------------\n",
      "\n",
      "\n",
      "\n",
      "Jokes of cluster # 4 :\n",
      "++++++++++++++++++++\n",
      "\n",
      "\n",
      "DarkImportGrey god there's nothing greater than using people to your advantage\r\n",
      "DarkImportGrey well... bowel movements are quite rewarding...\r\n",
      "DarkImportGrey but it's close\r\n",
      "DarkImportGrey manipulation vs. dumping\r\n",
      "DarkImportGrey i guess i'd have to do both at once to see which would win,\n",
      "---------------------\n",
      "\n",
      "-- Globulus (~XXXXXX@XXXXXX.XXXXXXcpe.net.cable.rogers.com) has joined #c\r\n",
      "* Globulus why they ban me from #china all I say is \"ME CHINESE ME MAKE JOKE ME PUT PEE PEE IN YOUR COKE!!!!!!!!!!!!!!\"\r\n",
      "--- qball sets ban on *!*@*.cpe.net.cable.rogers.com,\n",
      "---------------------\n",
      "\n",
      "Joe_ I got arrested by a school poice officer. \r\n",
      "Joe_ Up until I was sitting in Juvi for a couple hours, I was being illegaly detained. \r\n",
      "Joe_ Heh.. last time I try to ditch school to take a shit. \r\n",
      "Joe_ From now on, I'm shitting in my locker. Let them find THAT the next time they do a random search. \r\n",
      "Joe_ I can see it now. A stare down. Me, with my pants down. The cop, nose covered, gun drawn.,\n",
      "---------------------\n",
      "\n",
      "T|gz Ya know, it'd be kinda cool to taste with your hands like flies...\r\n",
      "t-f-i ....\r\n",
      "T|gz You can just stick your hand on someones food, and you can taste it.\r\n",
      "t-f-i Have fun, guess you'll have to give up masterbation.\r\n",
      "T|gz Oh fuck, nm.,\n",
      "---------------------\n",
      "\n",
      "\n",
      "\n",
      "Jokes of cluster # 5 :\n",
      "++++++++++++++++++++\n",
      "\n",
      "\n",
      "w|zzy had to help sister in the shower\r\n",
      "w|zzy fuck\r\n",
      "w|zzy as in she couldn't get it hot enouguh,\n",
      "---------------------\n",
      "\n",
      "MadHatter if you want to meet girls, I'll take you out\r\n",
      "Ash I want nice nerd girls, not coked-up models.,\n",
      "---------------------\n",
      "\n",
      "shaft i want some imac bed sheets.,\n",
      "---------------------\n",
      "\n",
      "gazzy fucken dammit u know it's a bad sign when you wake up and \"I R 1337\" is written on ur penis :/,\n",
      "---------------------\n",
      "\n",
      "\n",
      "\n",
      "Jokes of cluster # 6 :\n",
      "++++++++++++++++++++\n",
      "\n",
      "\n",
      "sad|st grrrrrrrr\r\n",
      "sad|st im going to *kill* my ex\r\n",
      "TblunT good\r\n",
      "TblunT ex's suck\r\n",
      "TblunT fuck em\r\n",
      "sad|st i spend 20 mins making fresh whipped cream every year and she demands i put Cool MotherFucking Whip on her shit\r\n",
      "sad|st %)%*%\r\n",
      "TblunT sounds like the cream isn't the only thing whipped y0,\n",
      "---------------------\n",
      "\n",
      "Liz: id like to have something else :-P\r\n",
      "katie: lol\r\n",
      "katie: i would too\r\n",
      "katie: like 5 seconds with him\r\n",
      "katie: even 5 milliseconds\r\n",
      "Liz: mmmm, 5 milliseconds of sex\r\n",
      "Liz: is that even a full thrust?\r\n",
      "katie: 1/2 of one\r\n",
      "Liz: mmmm, half thrust,\n",
      "---------------------\n",
      "\n",
      "@Cain i\r\n",
      "@Cain am\r\n",
      "@Cain ALIVE\r\n",
      "@Cain yes iam\r\n",
      "@Cain but no sleep\r\n",
      "@Cain in days\r\n",
      "@Cain makes me sad\r\n",
      "@Cain and not here\r\n",
      "*** Cain has quit IRC (Read error: Connection reset by peer)\r\n",
      "@Domino_ was that a poem?\r\n",
      "@Domino_ cuz i hate drive-by prose :\\,\n",
      "---------------------\n",
      "\n",
      "*** IRC -- Based on the original code written by Jarkko Oikarinen\r\n",
      "*** Copyright 1988, 1989, 1990, 1991 University of Oulu, Computing Center\r\n",
      "Jarkko You people have turned a cute little project I did 5 years ago INTO A TREMENDOUS WASTE OF TIME!!!  GET A LIFE!!!  MOVE OUT OF YOUR MOTHER'S BASEMENT!!!  You, with the bot... have you ever kissed a woman?,\n",
      "---------------------\n",
      "\n",
      "\n",
      "\n",
      "Jokes of cluster # 7 :\n",
      "++++++++++++++++++++\n",
      "\n",
      "\n",
      "T-Dragonus There was a young fellow named Bliss\r\n",
      "T-Dragonus Whose sex life was strangely amiss,\r\n",
      "T-Dragonus         For even with Venus\r\n",
      "T-Dragonus         His recalcitrant penis\r\n",
      "T-Dragonus Would never do better than t\r\n",
      "T-Dragonus                            h\r\n",
      "T-Dragonus                            i\r\n",
      "T-Dragonus                            s\r\n",
      "T-Dragonus                            .,\n",
      "---------------------\n",
      "\n",
      "Brendan Reen: \"call for a good time ;-) 0100 0010 0101 0101 0011 0010 0011\",\n",
      "---------------------\n",
      "\n",
      "xbconnect anyone alive?\r\n",
      "PoohBear just.. just go shoot yourself kthnx\r\n",
      "*** xbconnect (jirc@GSCCC-162169ED.brick101.nj.comcast.net) Quit (Quit: Leaving),\n",
      "---------------------\n",
      "\n",
      "* marc_ (marc@nullrewted.org) has joined #nullrewted\r\n",
      "* marc_ (marc@nullrewted.org) Quit (Killed (marc_ (ghost)))\r\n",
      "* marc_ (marc@nullrewted.org) has joined #nullrewted\r\n",
      "marc_ damnit wrong one\r\n",
      "* marc (marc@nullrewted.org) Quit (Killed (marc_ (ghost))),\n",
      "---------------------\n",
      "\n",
      "\n",
      "\n",
      "Jokes of cluster # 8 :\n",
      "++++++++++++++++++++\n",
      "\n",
      "\n",
      " Cillian WTF is ubuntu christian edition!?!??\r\n",
      " Cillian It's not like normal ubuntu is spawn of the devil\r\n",
      "@BlackRatchet thou shalt not kill -9?,\n",
      "---------------------\n",
      "\n",
      "Schoonzie dude\r\n",
      "Schoonzie 16\r\n",
      "ApoIIyon but like. cmon.. SHE IS SIXTEEN\r\n",
      "Schoonzie getting her kit off\r\n",
      "Schoonzie unpopular?\r\n",
      "Schoonzie i dont think so\r\n",
      "ApoIIyon illegal?\r\n",
      "ApoIIyon i think so,\n",
      "---------------------\n",
      "\n",
      "Psychedelia i live here with my two flatmates in one room, a small corridor and a toilet \r\n",
      "Psychedelia i'm in poverty lol \r\n",
      "Abrid ha ha! right on\r\n",
      "PornoFiend Where's poverty?  Is it nice?,\n",
      "---------------------\n",
      "\n",
      "J: Why is there porn all over the place??\r\n",
      "M: Are you kidding? Ever since my mom moved out, my dad has been throwing that\r\n",
      "shit around like confetti.,\n",
      "---------------------\n",
      "\n",
      "\n",
      "\n",
      "Jokes of cluster # 9 :\n",
      "++++++++++++++++++++\n",
      "\n",
      "\n",
      "ReWom IRC is full of sexy and beautiful people, they just send you the wrong pictures.,\n",
      "---------------------\n",
      "\n",
      "dreamwraith Girls that think oral sex isn't really sex are so fucked in the head. \r\n",
      "Dest dreamwraith: Literally.,\n",
      "---------------------\n",
      "\n",
      "@ryan theres acpi crap in my kernel\r\n",
      "@jon^c eat more fiber,\n",
      "---------------------\n",
      "\n",
      "NekkidBibleMan Now on fox: When Naked Men Read The Bible (2),\n",
      "---------------------\n",
      "\n",
      "\n",
      "\n",
      "Jokes of cluster # 10 :\n",
      "++++++++++++++++++++\n",
      "\n",
      "\n",
      "(notME) i have a 6 week old kitten\r\n",
      "(notME) and my 2 year old cat raped him\r\n",
      "(notME) shoved his feline penis in his bum\r\n",
      "(notME) i watched it\r\n",
      "(notME) i wasn't going to spank him\r\n",
      "(notME) d00d no\r\n",
      "(notME) i turned around\r\n",
      "(notME) and he's balls are smacking my kitten in the ass\r\n",
      "(notME) i didn't want to spank him\r\n",
      "(notME) cuz it'd only get him off faster,\n",
      "---------------------\n",
      "\n",
      "* byra bounces like a retard\r\n",
      "Argent- Are you listening to something bouncy?\r\n",
      "byra nope.\r\n",
      "byra im listening to the hum of computers\r\n",
      "Argent- Well, that always perks me up.\r\n",
      "Argent- The comforting whirr of fans, the faint ozone smell.. ah, I love that new computer smell you get when you buy a new case.\r\n",
      "Argent- The slick texture of anti-static bags..\r\n",
      "Argent- the clink of mounting hardware\r\n",
      "countzero -stop- you're turning me on!\r\n",
      "countzero ooh la la.,\n",
      "---------------------\n",
      "\n",
      "mrfrosty From: webmaster@P0PMAILER.ORG\r\n",
      "mrfrosty Subject: Learn the secrets of the rich!\r\n",
      "mrfrosty [-- Error: unexpected end of file! --]\r\n",
      "mrfrosty he's a tosser\r\n",
      "mrfrosty i had the secrets of the rich in my grasp\r\n",
      "mrfrosty i feel like a shakespearean tragedy\r\n",
      "mrfrosty actually it's jsut these tights\r\n",
      "mrfrosty and this shoulder length wig\r\n",
      "mrfrosty and nothing to do with the injustices perpetuated upon me by WEBMASTER@P0PMAILER.ORG\r\n",
      "mrfrosty (who shall be known as cunt from this moment forth),\n",
      "---------------------\n",
      "\n",
      "[Doctahluuuvvv] ::  I just got fucking attacked my a huge ass spider.\r\n",
      "[Doctahluuuvvv] ::  *by\r\n",
      "[Doctahluuuvvv] ::  I looked up to see this huge spider on my monitor.\r\n",
      "[Kendros]@::  lmao\r\n",
      "[Doctahluuuvvv] ::  THE MOTHERFUCKER JUMPED ONTO MY FACE\r\n",
      "[Doctahluuuvvv] ::  I FELL OVER BACKWARD\r\n",
      "[Doctahluuuvvv] ::  As I was typing randmo gibberish I hit ctrlatldel two times or something.\r\n",
      "[Doctahluuuvvv] ::  My computer was off after I killed it.\r\n",
      "[boner] ::  nice\r\n",
      "[Doctahluuuvvv] ::  Nice my ass.\r\n",
      "[Doctahluuuvvv] ::  I punched myself in the face :/,\n",
      "---------------------\n",
      "\n",
      "\n",
      "\n",
      "Jokes of cluster # 11 :\n",
      "++++++++++++++++++++\n",
      "\n",
      "\n",
      "miLKm4n2kj: there's a police scanner in my room at work\r\n",
      "miLKm4n2kj: it's fun to listen to\r\n",
      "miLKm4n2kj: it would be more fun if i could memorize this police code\r\n",
      "IcEmanhAxx0r: lol\r\n",
      "IcEmanhAxx0r: look at this one\r\n",
      "IcEmanhAxx0r: 11-25X Female motorist needs assistance\r\n",
      "miLKm4n2kj: that seems rather specific doesn't it?\r\n",
      "miLKm4n2kj: 11-25Y = male?\r\n",
      "IcEmanhAxx0r: it doesn't have it\r\n",
      "miLKm4n2kj: of course\r\n",
      "miLKm4n2kj: male motorists don't need assistance,\n",
      "---------------------\n",
      "\n",
      "Gnetic I searched for need for speed and I got this ===JJJJ==D~~~....what do i do with that???\r\n",
      "Gnetic is that like a binary code or something ??\r\n",
      "Resi0 its a cock\r\n",
      "Resi0 jesus man, i wouldnt wanna be you when ure in the bath if you cant see that...,\n",
      "---------------------\n",
      "\n",
      "KArmA-: telemarketer: yeah, I need to speak to your office manager please(very gruff voice)\r\n",
      "KArmA-: me: who the fuck do you think you're talking to?\r\n",
      "KArmA-: telemarketer: are you the office manager?\r\n",
      "KArmA-: me: no asshole, I said, who do you think you're talking to, with that tone of voice\r\n",
      "KArmA-: me: you don't call up and start barking at me like that\r\n",
      "KArmA-: telemarketer: well sir I'm sorry but I need to speak to your office manager.\r\n",
      "KArmA-: me: for what? he normally doesn't take phone calls for yard apes. . . what do you need to talk to him about that's so special?\r\n",
      "KArmA-: telemarketer: !(#*%@ EXCUSE ME?! YARD APE?!?! WHAT IS YOUR NAME!?!?\r\n",
      "KArmA-: me: *click*,\n",
      "---------------------\n",
      "\n",
      "(talking about a guy that worked at the world trade center)\r\n",
      "@PowrSlave this poor fuck is getting divorced cuz of 9/11\r\n",
      "@PowrSlave lol\r\n",
      "@PowrSlave his wife filed\r\n",
      "@PowrSlave he didnt go into work that morning and went to his mistresses' house instead\r\n",
      "@PowrSlave had his phone off\r\n",
      "nonzeRo haha\r\n",
      "nonzeRo lucky guy\r\n",
      "@PowrSlave he turned it on at around 11:00 and his wife was like \"OMFG ARE YOU OKAY WHERE ARE YOUR?\"\r\n",
      "@PowrSlave hes like \"im at the office honey. whats the matter?\"\r\n",
      "@PowrSlave lol,\n",
      "---------------------\n",
      "\n",
      "\n",
      "\n",
      "Jokes of cluster # 12 :\n",
      "++++++++++++++++++++\n",
      "\n",
      "\n",
      "Philips.com \"live chat\"\r\n",
      "\r\n",
      "Please wait for a consultant to assist you.\r\n",
      "mfennell will be with you momentarily!\r\n",
      "mfennell says, \"Thank you for contacting Philips USA Webchat. My name is Maurice. How may I assist you today?\"\r\n",
      "You say, \"yeah.. i was looking at your digital camera keyrings and had a question\"\r\n",
      "You say, \"i couldnt find what resolutions that were available to take pictures in\"\r\n",
      "mfennell says, \"I will be more than happy to assist you with this information but first , please may I have your first and last name, zip code, city and telephone number so as to create a case file ?\"\r\n",
      "You say, \"i realize it is 1.3 gigapixels and it comes in either 128 or 64 meg memory capacitys, but i dont know what res it will take picutres in\"\r\n",
      "You say, \"er... do you really need all of that info? im not sure if im going to buy it or anything.. i just wanted to know the resolutions..\"\r\n",
      "mfennell says, \"We would like this information so as to keep a record of each customer contact.\"\r\n",
      "You say, \"but im going to talk to you for all of like.. half a minute..\"\r\n",
      "You say, \"my name and email address was allready submitted.. that should be more than enough\"\r\n",
      "mfennell says, \"May I have the model number of the unit please?\"\r\n",
      "You say, \"KEY008\"\r\n",
      "You say, \"and KEY007.. if there is a difference\"\r\n",
      "mfennell says, \"Thank you.\"\r\n",
      "mfennell says, \"With an issue like this what we suggest is that you contact us at 1-800-531-0039.\"\r\n",
      "You say, \"er.... lool.. ok... im not gong to give them my info either\"\r\n",
      "You say, \"how bout i just look around for a different manufacturer that is less creepy..\"\r\n",
      "mfennell says, \"With an issue like this what we suggest is that you contact us at 1-800-531-0039.\"\r\n",
      "You say, \"wow.. generated responses..\"\r\n",
      "You say, \"really makes me feel i have a genuine connection w/the person helping me\"\r\n",
      "You say, \"well thanx for spending a good 15 min of my time\"\r\n",
      "You say, \"have a nice day....\"\r\n",
      "You say, \"try not to seduce any 13 yr olds over the net...\"\r\n",
      "mfennell says, \"Thank you.\"\r\n",
      "mfennell says, \"Thanks for contacting Philips USA. \"\r\n",
      "Your consultation has ended\r\n",
      "mfennell leaves.,\n",
      "---------------------\n",
      "\n",
      "@sTubby I'm holding the SL45 right now\r\n",
      "@PuffinFreshWog i am holding a sl45 too\r\n",
      "NiffTuRNaL Im holding a PS2 control\r\n",
      "@sTubby I'm holding my dick\r\n",
      "@sTubby and 2 phones, and typing...\r\n",
      "@sTubby now THAT'S talent\r\n",
      "@PuffinFreshWog thats a lot of hands\r\n",
      "@sTubby nah, just 3\r\n",
      "@PuffinFreshWog call the phones, if they are in the same hand as the dick\r\n",
      "@sTubby that'd be strangely entertaining\r\n",
      "@PuffinFreshWog i can't do that type of thing, my cocks needs the full atention of both hands coz it is so huge\r\n",
      "@PuffinFreshWog lol\r\n",
      "@sTubby 1 hand to rub and 1 hand to watch?\r\n",
      "@sTubby \"backup\"?,\n",
      "---------------------\n",
      "\n",
      "baloolispy: I have this horrible addiction to food. I try to quit, but I just get wracked with pain after a day or two every time and just have to have a cheeseburger.\r\n",
      "balooThey only told me the positive effects of food. Nobody ever told me food would be hard to quit.\r\n",
      "malfunct`their highly addictive products which are advertised as safe got me hooked and ruined my teeth and put me at high risk for heart disease and diabetes\r\n",
      "balooexactly\r\n",
      "malfunct`and from what I hear, mcdonalds is ruining my liver\r\n",
      "balooNot to mention high cholestorol\r\n",
      "lispybaloo: i find myself horribly addicted to O_2...i can't go five minutes without it...i get shakey and light headed...i'll fight someone that won't let me get my O_2 fix\r\n",
      "malfunct`ok bal, I don't buy that pepsi gave me high colesterol\r\n",
      "baloolispy: I know what you mean. I get the same way about water after a couple hours on a hot day.\r\n",
      "malfunct`lispy: yeah, the 02 addiction is nearly as bad as my dihydrogen monoxide addiction\r\n",
      "malfunct`and you know how many bad things dihydrogen monoxide can do\r\n",
      "baloomalfunct`: Yeah. I mean, holy hell, you mix dhydrogen monoxide and dioxygen long enough undisturbed on the hood of your car and it'll eat right through it. Might take a few years, but it'll do it.\r\n",
      "malfunct`baloo: yeah, and how many natural disasters can be traced back to the dihydrogen monoxide as a source\r\n",
      "lispybaloo: it only takes a couple ounces of that stuff to kill a baby in a matter of minutes if you leave their face in it\r\n",
      "baloomalfunct`: No kidding. You breathe even a little of that and it'll hurt like hell for days.,\n",
      "---------------------\n",
      "\n",
      "Spazz Seems like when I say \"FUCK\" you get an EOF error  :o\r\n",
      "*** Quits: Ranto (~recon@newax2-042.dialup.optusnet.com.au) (Read error: EOF from client)\r\n",
      "*** Joins: Ranto (~recon@newax2-042.dialup.optusnet.com.au)\r\n",
      "Bartolimis fuck\r\n",
      "*** Quits: Ranto (~recon@newax2-042.dialup.optusnet.com.au) (Read error: EOF from client)\r\n",
      "*** Joins: Ranto (~recon@newax2-042.dialup.optusnet.com.au)\r\n",
      "Bartolimis fuck\r\n",
      "Spazz fuck\r\n",
      "*** Quits: Ranto (~recon@newax2-042.dialup.optusnet.com.au) (Read error: EOF from client)\r\n",
      "*** Joins: Ranto (~recon@newax2-042.dialup.optusnet.com.au)\r\n",
      "Spazz fuck\r\n",
      "Bartolimis stop\r\n",
      "*** Quits: Ranto (~recon@newax2-042.dialup.optusnet.com.au) (Read error: EOF from client)\r\n",
      "*** Joins: Ranto (~recon@newax2-042.dialup.optusnet.com.au)\r\n",
      "Bartolimis we're done :)\r\n",
      "Ranto hmh?\r\n",
      "Spazz Your client got an error...\r\n",
      "Bartolimis yeah, we're done saying fuck\r\n",
      "Spazz everytime we said f***\r\n",
      "*** Quits: Ranto (~recon@newax2-042.dialup.optusnet.com.au) (Read error: EOF from client)\r\n",
      "*** Joins: Ranto (~recon@newax2-042.dialup.optusnet.com.au)\r\n",
      "Spazz Quit saying fukc\r\n",
      "Bartolimis my bad\r\n",
      "Spazz fuck*\r\n",
      "*** Quits: Ranto (~recon@newax2-042.dialup.optusnet.com.au) (Read error: EOF from client)\r\n",
      "*** Joins: Ranto (~recon@newax2-042.dialup.optusnet.com.au)\r\n",
      "Icc Someone says fuck and he drops ?\r\n",
      "*** Quits: Ranto (~recon@newax2-042.dialup.optusnet.com.au) (Read error: EOF from client),\n",
      "---------------------\n",
      "\n",
      "\n",
      "\n",
      "Jokes of cluster # 13 :\n",
      "++++++++++++++++++++\n",
      "\n",
      "\n",
      "Boogieman and I saw a girl and was like \"hey baby, you lookin' for a good time\"\r\n",
      "Boogieman and she said \"yes\"\r\n",
      "Boogieman and I just sorta stared\r\n",
      "Boogieman cause I don't usually get that far\r\n",
      "Boogieman and I didn't have anything to say,\n",
      "---------------------\n",
      "\n",
      "j0n Let me tell you about the first time I ever made love to a girl. We were out in a little meadow/park kind of thing, and we laid down on the blanket, and afterwards we both just lay there staying into each other's eyes. Neither of us said anything, it was kind of creeping me out. Then finally she looks to me and she says, \"Baaaaaaa.\",\n",
      "---------------------\n",
      "\n",
      "Rose ahaha...I remember this one time at a tattoo parlour\r\n",
      "Rose and this girl wanted a tattoo on her lower back\r\n",
      "Rose and she told the artist \"yeah, I want something symbolic\"\r\n",
      "Rose so I wrote \"Exit only\" in chinese,\n",
      "---------------------\n",
      "\n",
      "sparks got the house to myself for the evening\r\n",
      "Robert bbl\r\n",
      "Robert hehe enjoy ;)\r\n",
      "sparks guess I'll invite a bunch of friends over and have a party and play rap music\r\n",
      "sparks by which I mean I'll order a pizza and nair my legs,\n",
      "---------------------\n",
      "\n",
      "\n",
      "\n",
      "Jokes of cluster # 14 :\n",
      "++++++++++++++++++++\n",
      "\n",
      "\n",
      "phroze i like the express shirt \"Oh her? shes just a friend\",\n",
      "---------------------\n",
      "\n",
      "ORi0N what good are you with a high IQ if you, for exapmle, can't even make a sadwich or something?\r\n",
      "BaToR ask that to stehpen hawking :p,\n",
      "---------------------\n",
      "\n",
      "Linuxgeek How do i find the model of my card?\r\n",
      "Serena[T] your nick is misleading, seriously,\n",
      "---------------------\n",
      "\n",
      "IgWannA why do scots wear kilts? ..... because sheep have gotten used to the sound of a zipper,\n",
      "---------------------\n",
      "\n",
      "\n"
     ]
    }
   ],
   "source": [
    "print_clusters(af_frame, af_num_clusters)"
   ]
  },
  {
   "cell_type": "code",
   "execution_count": 34,
   "metadata": {
    "collapsed": false,
    "scrolled": false
   },
   "outputs": [
    {
     "data": {
      "image/png": "[encoded data removed]",
      "text/plain": [
       "<matplotlib.figure.Figure at 0x7fd6aa04ee10>"
      ]
     },
     "metadata": {},
     "output_type": "display_data"
    }
   ],
   "source": [
    "af_y = np.hstack(af_frame.cluster)\n",
    "scatter(cos_proj, af_y, af_num_clusters)\n",
    "plt.savefig('data/images/af_1.png', dpi=120)"
   ]
  },
  {
   "cell_type": "code",
   "execution_count": null,
   "metadata": {
    "collapsed": true
   },
   "outputs": [],
   "source": []
  }
 ],
 "metadata": {
  "kernelspec": {
   "display_name": "Python 3",
   "language": "python",
   "name": "python3"
  },
  "language_info": {
   "codemirror_mode": {
    "name": "ipython",
    "version": 3
   },
   "file_extension": ".py",
   "mimetype": "text/x-python",
   "name": "python",
   "nbconvert_exporter": "python",
   "pygments_lexer": "ipython3",
   "version": "3.4.3"
  }
 },
 "nbformat": 4,
 "nbformat_minor": 0
}
